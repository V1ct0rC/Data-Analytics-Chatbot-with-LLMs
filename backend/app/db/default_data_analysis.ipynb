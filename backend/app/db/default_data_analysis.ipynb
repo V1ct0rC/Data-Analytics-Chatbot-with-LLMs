{
 "cells": [
  {
   "cell_type": "code",
   "execution_count": 32,
   "id": "157f5783",
   "metadata": {},
   "outputs": [
    {
     "data": {
      "text/plain": [
       "True"
      ]
     },
     "execution_count": 32,
     "metadata": {},
     "output_type": "execute_result"
    }
   ],
   "source": [
    "import os\n",
    "import pandas as pd\n",
    "from sqlalchemy import create_engine, text\n",
    "from dotenv import load_dotenv\n",
    "\n",
    "load_dotenv()"
   ]
  },
  {
   "cell_type": "markdown",
   "id": "4a5b7857",
   "metadata": {},
   "source": [
    "---"
   ]
  },
  {
   "cell_type": "code",
   "execution_count": 27,
   "id": "36b7f2e9",
   "metadata": {},
   "outputs": [],
   "source": [
    "column_mapping = {\n",
    "    \"REF_DATE\": \"ref_date\",        # CSV column → Database column\n",
    "    \"TARGET\": \"target\",\n",
    "    \"VAR2\": \"sexo\",\n",
    "    \"IDADE\": \"idade\",\n",
    "    \"VAR4\": \"flag_obito\",\n",
    "    \"VAR5\": \"uf\",\n",
    "    \"VAR8\": \"classe_social\"\n",
    "}\n",
    "\n",
    "cols = [\"ref_date\", \"target\", \"sexo\", \"idade\", \"flag_obito\", \"uf\", \"classe_social\"]\n",
    "df = pd.read_csv(\n",
    "    'https://github.com/Neurolake/challenge-data-scientist/raw/refs/heads/main/datasets/credit_01/train.gz',\n",
    "    usecols=list(column_mapping.keys()),\n",
    "    parse_dates=[\"REF_DATE\"],\n",
    "    dtype={\n",
    "        \"target\": \"int8\",\n",
    "        \"idade\": \"int8\",\n",
    "        \"flag_obito\": \"str\",\n",
    "        \"uf\": \"str\",\n",
    "        \"classe_social\": \"str\",\n",
    "        \"sexo\": \"str\"\n",
    "    }\n",
    ")\n",
    "\n",
    "df = df.rename(columns=column_mapping)\n",
    "\n",
    "df[\"uf\"] = df[\"uf\"].str.strip().str.upper()\n",
    "df[\"classe_social\"] = df[\"classe_social\"].str.strip()\n",
    "df[\"sexo\"] = df[\"sexo\"].str.strip().str.upper()"
   ]
  },
  {
   "cell_type": "code",
   "execution_count": 28,
   "id": "b56ab59e",
   "metadata": {},
   "outputs": [
    {
     "data": {
      "text/html": [
       "<div>\n",
       "<style scoped>\n",
       "    .dataframe tbody tr th:only-of-type {\n",
       "        vertical-align: middle;\n",
       "    }\n",
       "\n",
       "    .dataframe tbody tr th {\n",
       "        vertical-align: top;\n",
       "    }\n",
       "\n",
       "    .dataframe thead th {\n",
       "        text-align: right;\n",
       "    }\n",
       "</style>\n",
       "<table border=\"1\" class=\"dataframe\">\n",
       "  <thead>\n",
       "    <tr style=\"text-align: right;\">\n",
       "      <th></th>\n",
       "      <th>ref_date</th>\n",
       "      <th>target</th>\n",
       "      <th>sexo</th>\n",
       "      <th>idade</th>\n",
       "      <th>flag_obito</th>\n",
       "      <th>uf</th>\n",
       "      <th>classe_social</th>\n",
       "    </tr>\n",
       "  </thead>\n",
       "  <tbody>\n",
       "    <tr>\n",
       "      <th>0</th>\n",
       "      <td>2017-06-01 00:00:00+00:00</td>\n",
       "      <td>0</td>\n",
       "      <td>M</td>\n",
       "      <td>34.137</td>\n",
       "      <td>NaN</td>\n",
       "      <td>RO</td>\n",
       "      <td>D</td>\n",
       "    </tr>\n",
       "    <tr>\n",
       "      <th>1</th>\n",
       "      <td>2017-08-18 00:00:00+00:00</td>\n",
       "      <td>0</td>\n",
       "      <td>M</td>\n",
       "      <td>40.447</td>\n",
       "      <td>NaN</td>\n",
       "      <td>PB</td>\n",
       "      <td>E</td>\n",
       "    </tr>\n",
       "    <tr>\n",
       "      <th>2</th>\n",
       "      <td>2017-06-30 00:00:00+00:00</td>\n",
       "      <td>0</td>\n",
       "      <td>F</td>\n",
       "      <td>33.515</td>\n",
       "      <td>NaN</td>\n",
       "      <td>RS</td>\n",
       "      <td>NaN</td>\n",
       "    </tr>\n",
       "    <tr>\n",
       "      <th>3</th>\n",
       "      <td>2017-08-05 00:00:00+00:00</td>\n",
       "      <td>1</td>\n",
       "      <td>F</td>\n",
       "      <td>25.797</td>\n",
       "      <td>NaN</td>\n",
       "      <td>BA</td>\n",
       "      <td>E</td>\n",
       "    </tr>\n",
       "    <tr>\n",
       "      <th>4</th>\n",
       "      <td>2017-07-29 00:00:00+00:00</td>\n",
       "      <td>0</td>\n",
       "      <td>F</td>\n",
       "      <td>54.074</td>\n",
       "      <td>NaN</td>\n",
       "      <td>RS</td>\n",
       "      <td>B</td>\n",
       "    </tr>\n",
       "  </tbody>\n",
       "</table>\n",
       "</div>"
      ],
      "text/plain": [
       "                   ref_date  target sexo   idade flag_obito  uf classe_social\n",
       "0 2017-06-01 00:00:00+00:00       0    M  34.137        NaN  RO             D\n",
       "1 2017-08-18 00:00:00+00:00       0    M  40.447        NaN  PB             E\n",
       "2 2017-06-30 00:00:00+00:00       0    F  33.515        NaN  RS           NaN\n",
       "3 2017-08-05 00:00:00+00:00       1    F  25.797        NaN  BA             E\n",
       "4 2017-07-29 00:00:00+00:00       0    F  54.074        NaN  RS             B"
      ]
     },
     "execution_count": 28,
     "metadata": {},
     "output_type": "execute_result"
    }
   ],
   "source": [
    "df.head()"
   ]
  },
  {
   "cell_type": "code",
   "execution_count": null,
   "id": "eb24b8a5",
   "metadata": {},
   "outputs": [
    {
     "name": "stdout",
     "output_type": "stream",
     "text": [
      "target\n",
      "0    91163\n",
      "1    29587\n",
      "Name: count, dtype: int64\n",
      "sexo\n",
      "F    60131\n",
      "M    46000\n",
      "Name: count, dtype: int64\n",
      "flag_obito\n",
      "S    202\n",
      "Name: count, dtype: int64\n",
      "uf\n",
      "SP    19079\n",
      "BA    10306\n",
      "PA    10159\n",
      "RS     8410\n",
      "CE     8262\n",
      "MG     7757\n",
      "PE     7056\n",
      "RJ     4617\n",
      "AM     4145\n",
      "RN     3800\n",
      "PR     3668\n",
      "PB     3085\n",
      "AL     2800\n",
      "ES     2765\n",
      "MS     2515\n",
      "GO     2369\n",
      "AC     2304\n",
      "MA     2083\n",
      "MT     2015\n",
      "SC     2013\n",
      "PI     1858\n",
      "RO     1731\n",
      "AP     1292\n",
      "SE     1175\n",
      "DF      790\n",
      "TO      767\n",
      "RR      573\n",
      "Name: count, dtype: int64\n",
      "classe_social\n",
      "E    54928\n",
      "D     9130\n",
      "C     2972\n",
      "B      449\n",
      "A      161\n",
      "Name: count, dtype: int64\n"
     ]
    }
   ],
   "source": [
    "for col in df.columns:\n",
    "    if col not in ['ref_date', 'idade']:\n",
    "        print(df.value_counts(col))"
   ]
  }
 ],
 "metadata": {
  "kernelspec": {
   "display_name": ".venv",
   "language": "python",
   "name": "python3"
  },
  "language_info": {
   "codemirror_mode": {
    "name": "ipython",
    "version": 3
   },
   "file_extension": ".py",
   "mimetype": "text/x-python",
   "name": "python",
   "nbconvert_exporter": "python",
   "pygments_lexer": "ipython3",
   "version": "3.12.4"
  }
 },
 "nbformat": 4,
 "nbformat_minor": 5
}
