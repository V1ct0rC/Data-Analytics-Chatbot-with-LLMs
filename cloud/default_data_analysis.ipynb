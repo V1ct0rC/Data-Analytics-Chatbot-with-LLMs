{
 "cells": [
  {
   "cell_type": "markdown",
   "id": "e47013c3",
   "metadata": {},
   "source": [
    "# Analyzing the dataset requested for the project\n",
    "\n",
    "This code has no direct relation to the rest of the repository or project. It only served as a guide for the function that transforms the datasets that will be uploaded to the cloud database. Given the main application and the objective of supporting several datasets, only minimal changes will be performed on the datasets, it would be unfeasible to create a general function."
   ]
  },
  {
   "cell_type": "code",
   "execution_count": 1,
   "id": "157f5783",
   "metadata": {},
   "outputs": [],
   "source": [
    "import pandas as pd"
   ]
  },
  {
   "cell_type": "markdown",
   "id": "4a5b7857",
   "metadata": {},
   "source": [
    "---"
   ]
  },
  {
   "cell_type": "code",
   "execution_count": 2,
   "id": "14467aff",
   "metadata": {},
   "outputs": [
    {
     "data": {
      "text/html": [
       "<div>\n",
       "<style scoped>\n",
       "    .dataframe tbody tr th:only-of-type {\n",
       "        vertical-align: middle;\n",
       "    }\n",
       "\n",
       "    .dataframe tbody tr th {\n",
       "        vertical-align: top;\n",
       "    }\n",
       "\n",
       "    .dataframe thead th {\n",
       "        text-align: right;\n",
       "    }\n",
       "</style>\n",
       "<table border=\"1\" class=\"dataframe\">\n",
       "  <thead>\n",
       "    <tr style=\"text-align: right;\">\n",
       "      <th></th>\n",
       "      <th>REF_DATE</th>\n",
       "      <th>TARGET</th>\n",
       "      <th>VAR2</th>\n",
       "      <th>IDADE</th>\n",
       "      <th>VAR4</th>\n",
       "      <th>VAR5</th>\n",
       "      <th>VAR6</th>\n",
       "      <th>VAR7</th>\n",
       "      <th>VAR8</th>\n",
       "      <th>VAR9</th>\n",
       "      <th>...</th>\n",
       "      <th>VAR141</th>\n",
       "      <th>VAR142</th>\n",
       "      <th>VAR143</th>\n",
       "      <th>VAR144</th>\n",
       "      <th>VAR145</th>\n",
       "      <th>VAR146</th>\n",
       "      <th>VAR147</th>\n",
       "      <th>VAR148</th>\n",
       "      <th>VAR149</th>\n",
       "      <th>ID</th>\n",
       "    </tr>\n",
       "  </thead>\n",
       "  <tbody>\n",
       "    <tr>\n",
       "      <th>0</th>\n",
       "      <td>2017-06-01 00:00:00+00:00</td>\n",
       "      <td>0</td>\n",
       "      <td>M</td>\n",
       "      <td>34.137</td>\n",
       "      <td>NaN</td>\n",
       "      <td>RO</td>\n",
       "      <td>-8.808779</td>\n",
       "      <td>-63.878470</td>\n",
       "      <td>D</td>\n",
       "      <td>E</td>\n",
       "      <td>...</td>\n",
       "      <td>2680.289259</td>\n",
       "      <td>D</td>\n",
       "      <td>NaN</td>\n",
       "      <td>NaN</td>\n",
       "      <td>NaN</td>\n",
       "      <td>NaN</td>\n",
       "      <td>102</td>\n",
       "      <td>EMAIL INEXISTENTE#@#NOME INEXISTENTE#@#CEP INE...</td>\n",
       "      <td>2.6.1</td>\n",
       "      <td>181755</td>\n",
       "    </tr>\n",
       "    <tr>\n",
       "      <th>1</th>\n",
       "      <td>2017-08-18 00:00:00+00:00</td>\n",
       "      <td>0</td>\n",
       "      <td>M</td>\n",
       "      <td>40.447</td>\n",
       "      <td>NaN</td>\n",
       "      <td>PB</td>\n",
       "      <td>-7.146537</td>\n",
       "      <td>-34.926080</td>\n",
       "      <td>E</td>\n",
       "      <td>E</td>\n",
       "      <td>...</td>\n",
       "      <td>1777.725469</td>\n",
       "      <td>E</td>\n",
       "      <td>NaN</td>\n",
       "      <td>NaN</td>\n",
       "      <td>NaN</td>\n",
       "      <td>NaN</td>\n",
       "      <td>102</td>\n",
       "      <td>EMAIL INEXISTENTE#@#NOME INEXISTENTE#@#CEP INE...</td>\n",
       "      <td>2.6.1</td>\n",
       "      <td>287633</td>\n",
       "    </tr>\n",
       "    <tr>\n",
       "      <th>2</th>\n",
       "      <td>2017-06-30 00:00:00+00:00</td>\n",
       "      <td>0</td>\n",
       "      <td>F</td>\n",
       "      <td>33.515</td>\n",
       "      <td>NaN</td>\n",
       "      <td>RS</td>\n",
       "      <td>-27.900178</td>\n",
       "      <td>-53.314035</td>\n",
       "      <td>NaN</td>\n",
       "      <td>E</td>\n",
       "      <td>...</td>\n",
       "      <td>1695.494979</td>\n",
       "      <td>E</td>\n",
       "      <td>NaN</td>\n",
       "      <td>NaN</td>\n",
       "      <td>NaN</td>\n",
       "      <td>NaN</td>\n",
       "      <td>102</td>\n",
       "      <td>EMAIL INEXISTENTE#@#NOME INEXISTENTE#@#CEP INE...</td>\n",
       "      <td>2.6.1</td>\n",
       "      <td>88015</td>\n",
       "    </tr>\n",
       "    <tr>\n",
       "      <th>3</th>\n",
       "      <td>2017-08-05 00:00:00+00:00</td>\n",
       "      <td>1</td>\n",
       "      <td>F</td>\n",
       "      <td>25.797</td>\n",
       "      <td>NaN</td>\n",
       "      <td>BA</td>\n",
       "      <td>-12.948874</td>\n",
       "      <td>-38.451863</td>\n",
       "      <td>E</td>\n",
       "      <td>E</td>\n",
       "      <td>...</td>\n",
       "      <td>1399.037809</td>\n",
       "      <td>E</td>\n",
       "      <td>NaN</td>\n",
       "      <td>NaN</td>\n",
       "      <td>NaN</td>\n",
       "      <td>NaN</td>\n",
       "      <td>102</td>\n",
       "      <td>EMAIL INEXISTENTE#@#NOME INEXISTENTE#@#CEP INE...</td>\n",
       "      <td>2.6.1</td>\n",
       "      <td>122576</td>\n",
       "    </tr>\n",
       "    <tr>\n",
       "      <th>4</th>\n",
       "      <td>2017-07-29 00:00:00+00:00</td>\n",
       "      <td>0</td>\n",
       "      <td>F</td>\n",
       "      <td>54.074</td>\n",
       "      <td>NaN</td>\n",
       "      <td>RS</td>\n",
       "      <td>-30.051810</td>\n",
       "      <td>-51.213277</td>\n",
       "      <td>B</td>\n",
       "      <td>E</td>\n",
       "      <td>...</td>\n",
       "      <td>7868.793296</td>\n",
       "      <td>C</td>\n",
       "      <td>NaN</td>\n",
       "      <td>NaN</td>\n",
       "      <td>NaN</td>\n",
       "      <td>NaN</td>\n",
       "      <td>102</td>\n",
       "      <td>EMAIL INEXISTENTE</td>\n",
       "      <td>2.6.1</td>\n",
       "      <td>1272</td>\n",
       "    </tr>\n",
       "  </tbody>\n",
       "</table>\n",
       "<p>5 rows × 151 columns</p>\n",
       "</div>"
      ],
      "text/plain": [
       "                    REF_DATE  TARGET VAR2   IDADE VAR4 VAR5       VAR6  \\\n",
       "0  2017-06-01 00:00:00+00:00       0    M  34.137  NaN   RO  -8.808779   \n",
       "1  2017-08-18 00:00:00+00:00       0    M  40.447  NaN   PB  -7.146537   \n",
       "2  2017-06-30 00:00:00+00:00       0    F  33.515  NaN   RS -27.900178   \n",
       "3  2017-08-05 00:00:00+00:00       1    F  25.797  NaN   BA -12.948874   \n",
       "4  2017-07-29 00:00:00+00:00       0    F  54.074  NaN   RS -30.051810   \n",
       "\n",
       "        VAR7 VAR8 VAR9  ...       VAR141  VAR142  VAR143  VAR144  VAR145  \\\n",
       "0 -63.878470    D    E  ...  2680.289259       D     NaN     NaN     NaN   \n",
       "1 -34.926080    E    E  ...  1777.725469       E     NaN     NaN     NaN   \n",
       "2 -53.314035  NaN    E  ...  1695.494979       E     NaN     NaN     NaN   \n",
       "3 -38.451863    E    E  ...  1399.037809       E     NaN     NaN     NaN   \n",
       "4 -51.213277    B    E  ...  7868.793296       C     NaN     NaN     NaN   \n",
       "\n",
       "   VAR146  VAR147                                             VAR148  VAR149  \\\n",
       "0     NaN     102  EMAIL INEXISTENTE#@#NOME INEXISTENTE#@#CEP INE...   2.6.1   \n",
       "1     NaN     102  EMAIL INEXISTENTE#@#NOME INEXISTENTE#@#CEP INE...   2.6.1   \n",
       "2     NaN     102  EMAIL INEXISTENTE#@#NOME INEXISTENTE#@#CEP INE...   2.6.1   \n",
       "3     NaN     102  EMAIL INEXISTENTE#@#NOME INEXISTENTE#@#CEP INE...   2.6.1   \n",
       "4     NaN     102                                  EMAIL INEXISTENTE   2.6.1   \n",
       "\n",
       "       ID  \n",
       "0  181755  \n",
       "1  287633  \n",
       "2   88015  \n",
       "3  122576  \n",
       "4    1272  \n",
       "\n",
       "[5 rows x 151 columns]"
      ]
     },
     "execution_count": 2,
     "metadata": {},
     "output_type": "execute_result"
    }
   ],
   "source": [
    "df = pd.read_csv(\n",
    "    'https://github.com/Neurolake/challenge-data-scientist/raw/refs/heads/main/datasets/credit_01/train.gz',\n",
    ")\n",
    "\n",
    "df.head()"
   ]
  },
  {
   "cell_type": "code",
   "execution_count": 3,
   "id": "865b3085",
   "metadata": {},
   "outputs": [
    {
     "data": {
      "text/plain": [
       "(120750, 151)"
      ]
     },
     "execution_count": 3,
     "metadata": {},
     "output_type": "execute_result"
    }
   ],
   "source": [
    "df.shape"
   ]
  },
  {
   "cell_type": "markdown",
   "id": "4fbf60fe",
   "metadata": {},
   "source": [
    "---"
   ]
  },
  {
   "cell_type": "markdown",
   "id": "14bb41fe",
   "metadata": {},
   "source": [
    "The dataset has many columns. However, according to the project, these are the only columns that will be used:"
   ]
  },
  {
   "cell_type": "code",
   "execution_count": 4,
   "id": "db91f01f",
   "metadata": {},
   "outputs": [],
   "source": [
    "column_mapping = {\n",
    "    \"REF_DATE\": \"ref_date\",        # CSV column → Database column\n",
    "    \"TARGET\": \"target\",\n",
    "    \"VAR2\": \"sexo\",\n",
    "    \"IDADE\": \"idade\",\n",
    "    \"VAR4\": \"flag_obito\",\n",
    "    \"VAR5\": \"uf\",\n",
    "    \"VAR8\": \"classe_social\"\n",
    "}\n",
    "\n",
    "cols = [\"ref_date\", \"target\", \"sexo\", \"idade\", \"flag_obito\", \"uf\", \"classe_social\"]"
   ]
  },
  {
   "cell_type": "code",
   "execution_count": 5,
   "id": "36b7f2e9",
   "metadata": {},
   "outputs": [
    {
     "data": {
      "text/html": [
       "<div>\n",
       "<style scoped>\n",
       "    .dataframe tbody tr th:only-of-type {\n",
       "        vertical-align: middle;\n",
       "    }\n",
       "\n",
       "    .dataframe tbody tr th {\n",
       "        vertical-align: top;\n",
       "    }\n",
       "\n",
       "    .dataframe thead th {\n",
       "        text-align: right;\n",
       "    }\n",
       "</style>\n",
       "<table border=\"1\" class=\"dataframe\">\n",
       "  <thead>\n",
       "    <tr style=\"text-align: right;\">\n",
       "      <th></th>\n",
       "      <th>ref_date</th>\n",
       "      <th>target</th>\n",
       "      <th>sexo</th>\n",
       "      <th>idade</th>\n",
       "      <th>flag_obito</th>\n",
       "      <th>uf</th>\n",
       "      <th>classe_social</th>\n",
       "    </tr>\n",
       "  </thead>\n",
       "  <tbody>\n",
       "    <tr>\n",
       "      <th>0</th>\n",
       "      <td>2017-06-01 00:00:00+00:00</td>\n",
       "      <td>0</td>\n",
       "      <td>M</td>\n",
       "      <td>34.137</td>\n",
       "      <td>NaN</td>\n",
       "      <td>RO</td>\n",
       "      <td>D</td>\n",
       "    </tr>\n",
       "    <tr>\n",
       "      <th>1</th>\n",
       "      <td>2017-08-18 00:00:00+00:00</td>\n",
       "      <td>0</td>\n",
       "      <td>M</td>\n",
       "      <td>40.447</td>\n",
       "      <td>NaN</td>\n",
       "      <td>PB</td>\n",
       "      <td>E</td>\n",
       "    </tr>\n",
       "    <tr>\n",
       "      <th>2</th>\n",
       "      <td>2017-06-30 00:00:00+00:00</td>\n",
       "      <td>0</td>\n",
       "      <td>F</td>\n",
       "      <td>33.515</td>\n",
       "      <td>NaN</td>\n",
       "      <td>RS</td>\n",
       "      <td>NaN</td>\n",
       "    </tr>\n",
       "    <tr>\n",
       "      <th>3</th>\n",
       "      <td>2017-08-05 00:00:00+00:00</td>\n",
       "      <td>1</td>\n",
       "      <td>F</td>\n",
       "      <td>25.797</td>\n",
       "      <td>NaN</td>\n",
       "      <td>BA</td>\n",
       "      <td>E</td>\n",
       "    </tr>\n",
       "    <tr>\n",
       "      <th>4</th>\n",
       "      <td>2017-07-29 00:00:00+00:00</td>\n",
       "      <td>0</td>\n",
       "      <td>F</td>\n",
       "      <td>54.074</td>\n",
       "      <td>NaN</td>\n",
       "      <td>RS</td>\n",
       "      <td>B</td>\n",
       "    </tr>\n",
       "  </tbody>\n",
       "</table>\n",
       "</div>"
      ],
      "text/plain": [
       "                    ref_date  target sexo   idade flag_obito  uf classe_social\n",
       "0  2017-06-01 00:00:00+00:00       0    M  34.137        NaN  RO             D\n",
       "1  2017-08-18 00:00:00+00:00       0    M  40.447        NaN  PB             E\n",
       "2  2017-06-30 00:00:00+00:00       0    F  33.515        NaN  RS           NaN\n",
       "3  2017-08-05 00:00:00+00:00       1    F  25.797        NaN  BA             E\n",
       "4  2017-07-29 00:00:00+00:00       0    F  54.074        NaN  RS             B"
      ]
     },
     "execution_count": 5,
     "metadata": {},
     "output_type": "execute_result"
    }
   ],
   "source": [
    "df = df.rename(columns=column_mapping)\n",
    "df_reduced = df[cols]\n",
    "\n",
    "df_reduced.head()"
   ]
  },
  {
   "cell_type": "markdown",
   "id": "0ec669c2",
   "metadata": {},
   "source": [
    "---"
   ]
  },
  {
   "cell_type": "markdown",
   "id": "759e3f2b",
   "metadata": {},
   "source": [
    "As you can see below, the dataset has many null values. However we will not remove them, as they are still important for the analysis and can be used by the chatbot to understand the data better. Also, as said before, we do not want to change the dataset too much, so can see the robustness of the chatbot."
   ]
  },
  {
   "cell_type": "code",
   "execution_count": 6,
   "id": "eb24b8a5",
   "metadata": {},
   "outputs": [
    {
     "name": "stdout",
     "output_type": "stream",
     "text": [
      "target null values: 0\n",
      "sexo null values: 14619\n",
      "flag_obito null values: 120548\n",
      "uf null values: 3356\n",
      "classe_social null values: 53110\n"
     ]
    }
   ],
   "source": [
    "for col in df_reduced.columns:\n",
    "    if col not in ['ref_date', 'idade']:\n",
    "        print(f\"{col} null values: {df_reduced[col].isnull().sum()}\")"
   ]
  },
  {
   "cell_type": "markdown",
   "id": "de9a01ab",
   "metadata": {},
   "source": [
    "---"
   ]
  },
  {
   "cell_type": "markdown",
   "id": "f53a6846",
   "metadata": {},
   "source": [
    "Again, we could encode the categorical variables and use better data types, but we will not do it, as the chatbot needs to be able to understand them without encoding."
   ]
  },
  {
   "cell_type": "code",
   "execution_count": 8,
   "id": "5dbccc33",
   "metadata": {},
   "outputs": [
    {
     "data": {
      "text/plain": [
       "ref_date          object\n",
       "target             int64\n",
       "sexo              object\n",
       "idade            float64\n",
       "flag_obito        object\n",
       "uf                object\n",
       "classe_social     object\n",
       "dtype: object"
      ]
     },
     "execution_count": 8,
     "metadata": {},
     "output_type": "execute_result"
    }
   ],
   "source": [
    "df_reduced.dtypes"
   ]
  },
  {
   "cell_type": "markdown",
   "id": "76deeed9",
   "metadata": {},
   "source": [
    "---"
   ]
  },
  {
   "cell_type": "markdown",
   "id": "622aa88a",
   "metadata": {},
   "source": [
    "For this dataset, we will just do a .strip() and .upper() on the columns that are strings, to remove any possible leading or trailing spaces and keep the data consistent. This will help the chatbot to understand the data better."
   ]
  },
  {
   "cell_type": "code",
   "execution_count": null,
   "id": "d98da094",
   "metadata": {},
   "outputs": [],
   "source": [
    "df_reduced[\"uf\"] = df_reduced[\"uf\"].str.strip().str.upper()\n",
    "df_reduced[\"classe_social\"] = df_reduced[\"classe_social\"].str.strip().str.upper()\n",
    "df_reduced[\"sexo\"] = df_reduced[\"sexo\"].str.strip().str.upper()"
   ]
  }
 ],
 "metadata": {
  "kernelspec": {
   "display_name": ".venv",
   "language": "python",
   "name": "python3"
  },
  "language_info": {
   "codemirror_mode": {
    "name": "ipython",
    "version": 3
   },
   "file_extension": ".py",
   "mimetype": "text/x-python",
   "name": "python",
   "nbconvert_exporter": "python",
   "pygments_lexer": "ipython3",
   "version": "3.12.4"
  }
 },
 "nbformat": 4,
 "nbformat_minor": 5
}
